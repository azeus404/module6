{
 "cells": [
  {
   "cell_type": "code",
   "execution_count": 4,
   "metadata": {},
   "outputs": [
    {
     "name": "stdout",
     "output_type": "stream",
     "text": [
      "[*] Implementing trained model: Random forest classifier\n"
     ]
    }
   ],
   "source": [
    "import pandas as pd\n",
    "import pickle\n",
    "import argparse\n",
    "import numpy as np\n",
    "from collections import Counter\n",
    "\n",
    "import joblib\n",
    "\n",
    "\n",
    "#lld = 'asdasdawe123jhdkjhasdasd'\n",
    "lld = 'paaagf3i'\n",
    "\n",
    "ml_model = open('../models/rf_model.pkl','rb')\n",
    "\n",
    "print('[*] Implementing trained model: Random forest classifier')\n",
    "dtc = joblib.load(ml_model)\n",
    "\n",
    "dfa = dict()\n",
    "\n",
    "\n",
    "\"\"\"\n",
    "Shannon Entropy calulation\n",
    "\"\"\"\n",
    "def calcEntropy(x):\n",
    "    p, lens = Counter(x), np.float(len(x))\n",
    "    return -sum( count/lens * np.log2(count/lens) for count in p.values())\n",
    "\n",
    "dfa['entropy'] = calcEntropy(lld)\n",
    "\n",
    "\"\"\"\n",
    "LLD record length\n",
    "\"\"\"\n",
    "dfa['length'] = len(lld)\n",
    "\n",
    "\n",
    "def countChar(x):\n",
    "    charsum = 0\n",
    "    total = len(x)\n",
    "    for char in x:\n",
    "        if not char.isalpha():\n",
    "            charsum = charsum + 1\n",
    "    return float(charsum)/total\n",
    "dfa['numbchars'] = countChar(lld)\n"
   ]
  },
  {
   "cell_type": "code",
   "execution_count": 5,
   "metadata": {},
   "outputs": [
    {
     "name": "stdout",
     "output_type": "stream",
     "text": [
      "<bound method NDFrame.head of     entropy  length  numbchars\n",
      "0  2.405639       8      0.125>\n"
     ]
    }
   ],
   "source": [
    "dfa\n",
    "df = pd.DataFrame(data=dfa,index=[0])\n",
    "print(df.head)\n",
    "\n"
   ]
  },
  {
   "cell_type": "code",
   "execution_count": 6,
   "metadata": {},
   "outputs": [
    {
     "name": "stdout",
     "output_type": "stream",
     "text": [
      "This is benign: paaagf3i LLD\n"
     ]
    }
   ],
   "source": [
    "prediction = dtc.predict(df)\n",
    "\n",
    "if prediction ==[0]:\n",
    "    print(\"This is benign: %s LLD\" % lld)\n",
    "else:\n",
    "    print(\"This is possible malicious: %s LLD\" % lld)\n"
   ]
  },
  {
   "cell_type": "code",
   "execution_count": null,
   "metadata": {},
   "outputs": [],
   "source": []
  },
  {
   "cell_type": "code",
   "execution_count": null,
   "metadata": {},
   "outputs": [],
   "source": []
  },
  {
   "cell_type": "code",
   "execution_count": null,
   "metadata": {},
   "outputs": [],
   "source": []
  },
  {
   "cell_type": "code",
   "execution_count": null,
   "metadata": {},
   "outputs": [],
   "source": []
  },
  {
   "cell_type": "code",
   "execution_count": null,
   "metadata": {},
   "outputs": [],
   "source": []
  }
 ],
 "metadata": {
  "kernelspec": {
   "display_name": "Python 3",
   "language": "python",
   "name": "python3"
  },
  "language_info": {
   "codemirror_mode": {
    "name": "ipython",
    "version": 3
   },
   "file_extension": ".py",
   "mimetype": "text/x-python",
   "name": "python",
   "nbconvert_exporter": "python",
   "pygments_lexer": "ipython3",
   "version": "3.7.6"
  }
 },
 "nbformat": 4,
 "nbformat_minor": 4
}
